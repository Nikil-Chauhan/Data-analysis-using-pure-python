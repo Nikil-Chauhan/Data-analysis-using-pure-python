{
 "cells": [
  {
   "cell_type": "code",
   "execution_count": 1,
   "id": "a1eb41d6-027f-4c62-8d49-8985be4bfb7d",
   "metadata": {},
   "outputs": [],
   "source": [
    "import json"
   ]
  },
  {
   "cell_type": "code",
   "execution_count": 2,
   "id": "37ee9c47-e91f-43b8-bcd1-ac0792d2caa3",
   "metadata": {},
   "outputs": [],
   "source": [
    "# Load the JSON file\n",
    "def load_data(filename):\n",
    "    with open(filename, \"r\") as f:\n",
    "        data = json.load(f)\n",
    "    return data"
   ]
  },
  {
   "cell_type": "code",
   "execution_count": 3,
   "id": "32631a32-cfc2-4724-83ee-f00744f67cb1",
   "metadata": {
    "panel-layout": {
     "height": 0,
     "visible": true,
     "width": 100
    }
   },
   "outputs": [
    {
     "name": "stdout",
     "output_type": "stream",
     "text": [
      "Users and their connections:\n",
      "ID:1 - Amit is friends with: [2, 3] and liked pages are [101].\n",
      "ID:2 - Priya is friends with: [1, 4] and liked pages are [102].\n",
      "ID:3 - Rahul is friends with: [1] and liked pages are [101, 103].\n",
      "ID:4 - Sara is friends with: [2] and liked pages are [104].\n",
      "\n",
      "Pages Information\n",
      "101 : Python Developers\n",
      "102 : Data Science Enthusiasts\n",
      "103 : AI & ML Community\n",
      "104 : Web Dev Hub\n"
     ]
    }
   ],
   "source": [
    "# Display users and their connections\n",
    "def display_users(data):\n",
    "    print(\"Users and their connections:\")\n",
    "    for user in data['users']:\n",
    "        print(f\"ID:{user['id']} - {user['name']} is friends with: {user['friends']} and liked pages are {user['liked_pages']}.\")\n",
    "    print(\"\\nPages Information\")\n",
    "    for page in data['pages']:\n",
    "        print(f\"{page['id']} : {page['name']}\")\n",
    "        \n",
    "data = load_data(\"data.json\")\n",
    "display_users(data)"
   ]
  }
 ],
 "metadata": {
  "kernelspec": {
   "display_name": "Python [conda env:base] *",
   "language": "python",
   "name": "conda-base-py"
  },
  "language_info": {
   "codemirror_mode": {
    "name": "ipython",
    "version": 3
   },
   "file_extension": ".py",
   "mimetype": "text/x-python",
   "name": "python",
   "nbconvert_exporter": "python",
   "pygments_lexer": "ipython3",
   "version": "3.13.5"
  },
  "panel-cell-order": [
   "32631a32-cfc2-4724-83ee-f00744f67cb1"
  ]
 },
 "nbformat": 4,
 "nbformat_minor": 5
}
